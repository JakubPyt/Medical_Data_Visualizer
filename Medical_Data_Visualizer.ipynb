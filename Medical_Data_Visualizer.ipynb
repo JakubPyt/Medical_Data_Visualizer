{
  "nbformat": 4,
  "nbformat_minor": 0,
  "metadata": {
    "colab": {
      "name": "Medical Data Visualizer.ipynb",
      "provenance": [],
      "collapsed_sections": [],
      "toc_visible": true,
      "mount_file_id": "1J657ce9urZj-U4nv9pYYUuIcs-cJp0iB",
      "authorship_tag": "ABX9TyOX0iKXIryJ9KGghOJfmzc1",
      "include_colab_link": true
    },
    "kernelspec": {
      "name": "python3",
      "display_name": "Python 3"
    },
    "language_info": {
      "name": "python"
    }
  },
  "cells": [
    {
      "cell_type": "markdown",
      "metadata": {
        "id": "view-in-github",
        "colab_type": "text"
      },
      "source": [
        "<a href=\"https://colab.research.google.com/github/JakubPyt/Medical_Data_Visualizer/blob/main/Medical_Data_Visualizer.ipynb\" target=\"_parent\"><img src=\"https://colab.research.google.com/assets/colab-badge.svg\" alt=\"Open In Colab\"/></a>"
      ]
    },
    {
      "cell_type": "markdown",
      "metadata": {
        "id": "EO0LpZLlQ74d"
      },
      "source": [
        "# Medical Data Visualizer"
      ]
    },
    {
      "cell_type": "markdown",
      "metadata": {
        "id": "6nuWYnAxm4wN"
      },
      "source": [
        "This project was created as part of the course on the free Code Camp website:\n",
        "\n",
        "https://www.freecodecamp.org/learn/data-analysis-with-python/data-analysis-with-python-projects/medical-data-visualizer\n",
        "\n",
        "On this project I make calculation and visualization from medical examination data using matplotlib, seaborn, pandas and numpy."
      ]
    },
    {
      "cell_type": "markdown",
      "metadata": {
        "id": "zqJ-Yuf7sNaN"
      },
      "source": [
        "## Basic dataset"
      ]
    },
    {
      "cell_type": "code",
      "metadata": {
        "colab": {
          "base_uri": "https://localhost:8080/",
          "height": 225
        },
        "id": "LabaZajRQt4F",
        "outputId": "5ba17d6f-fd09-4965-aad0-535df062dd05"
      },
      "source": [
        "# Import of needed libraries\n",
        "import pandas as pd\n",
        "import numpy as np\n",
        "import seaborn as sns\n",
        "\n",
        "# Import the data \n",
        "url = 'https://raw.githubusercontent.com/JakubPyt/Medical_Data_Visualizer/main/medical_examination.csv'\n",
        "data = pd.read_csv(url, sep=';', index_col='id')\n",
        "\n",
        "# Display first five rows\n",
        "data.head()"
      ],
      "execution_count": 1,
      "outputs": [
        {
          "output_type": "execute_result",
          "data": {
            "text/html": [
              "<div>\n",
              "<style scoped>\n",
              "    .dataframe tbody tr th:only-of-type {\n",
              "        vertical-align: middle;\n",
              "    }\n",
              "\n",
              "    .dataframe tbody tr th {\n",
              "        vertical-align: top;\n",
              "    }\n",
              "\n",
              "    .dataframe thead th {\n",
              "        text-align: right;\n",
              "    }\n",
              "</style>\n",
              "<table border=\"1\" class=\"dataframe\">\n",
              "  <thead>\n",
              "    <tr style=\"text-align: right;\">\n",
              "      <th></th>\n",
              "      <th>age</th>\n",
              "      <th>gender</th>\n",
              "      <th>height</th>\n",
              "      <th>weight</th>\n",
              "      <th>ap_hi</th>\n",
              "      <th>ap_lo</th>\n",
              "      <th>cholesterol</th>\n",
              "      <th>gluc</th>\n",
              "      <th>smoke</th>\n",
              "      <th>alco</th>\n",
              "      <th>active</th>\n",
              "      <th>cardio</th>\n",
              "    </tr>\n",
              "    <tr>\n",
              "      <th>id</th>\n",
              "      <th></th>\n",
              "      <th></th>\n",
              "      <th></th>\n",
              "      <th></th>\n",
              "      <th></th>\n",
              "      <th></th>\n",
              "      <th></th>\n",
              "      <th></th>\n",
              "      <th></th>\n",
              "      <th></th>\n",
              "      <th></th>\n",
              "      <th></th>\n",
              "    </tr>\n",
              "  </thead>\n",
              "  <tbody>\n",
              "    <tr>\n",
              "      <th>0</th>\n",
              "      <td>18393</td>\n",
              "      <td>2</td>\n",
              "      <td>168</td>\n",
              "      <td>62.0</td>\n",
              "      <td>110</td>\n",
              "      <td>80</td>\n",
              "      <td>1</td>\n",
              "      <td>1</td>\n",
              "      <td>0</td>\n",
              "      <td>0</td>\n",
              "      <td>1</td>\n",
              "      <td>0</td>\n",
              "    </tr>\n",
              "    <tr>\n",
              "      <th>1</th>\n",
              "      <td>20228</td>\n",
              "      <td>1</td>\n",
              "      <td>156</td>\n",
              "      <td>85.0</td>\n",
              "      <td>140</td>\n",
              "      <td>90</td>\n",
              "      <td>3</td>\n",
              "      <td>1</td>\n",
              "      <td>0</td>\n",
              "      <td>0</td>\n",
              "      <td>1</td>\n",
              "      <td>1</td>\n",
              "    </tr>\n",
              "    <tr>\n",
              "      <th>2</th>\n",
              "      <td>18857</td>\n",
              "      <td>1</td>\n",
              "      <td>165</td>\n",
              "      <td>64.0</td>\n",
              "      <td>130</td>\n",
              "      <td>70</td>\n",
              "      <td>3</td>\n",
              "      <td>1</td>\n",
              "      <td>0</td>\n",
              "      <td>0</td>\n",
              "      <td>0</td>\n",
              "      <td>1</td>\n",
              "    </tr>\n",
              "    <tr>\n",
              "      <th>3</th>\n",
              "      <td>17623</td>\n",
              "      <td>2</td>\n",
              "      <td>169</td>\n",
              "      <td>82.0</td>\n",
              "      <td>150</td>\n",
              "      <td>100</td>\n",
              "      <td>1</td>\n",
              "      <td>1</td>\n",
              "      <td>0</td>\n",
              "      <td>0</td>\n",
              "      <td>1</td>\n",
              "      <td>1</td>\n",
              "    </tr>\n",
              "    <tr>\n",
              "      <th>4</th>\n",
              "      <td>17474</td>\n",
              "      <td>1</td>\n",
              "      <td>156</td>\n",
              "      <td>56.0</td>\n",
              "      <td>100</td>\n",
              "      <td>60</td>\n",
              "      <td>1</td>\n",
              "      <td>1</td>\n",
              "      <td>0</td>\n",
              "      <td>0</td>\n",
              "      <td>0</td>\n",
              "      <td>0</td>\n",
              "    </tr>\n",
              "  </tbody>\n",
              "</table>\n",
              "</div>"
            ],
            "text/plain": [
              "      age  gender  height  weight  ap_hi  ...  gluc  smoke  alco  active  cardio\n",
              "id                                        ...                                   \n",
              "0   18393       2     168    62.0    110  ...     1      0     0       1       0\n",
              "1   20228       1     156    85.0    140  ...     1      0     0       1       1\n",
              "2   18857       1     165    64.0    130  ...     1      0     0       0       1\n",
              "3   17623       2     169    82.0    150  ...     1      0     0       1       1\n",
              "4   17474       1     156    56.0    100  ...     1      0     0       0       0\n",
              "\n",
              "[5 rows x 12 columns]"
            ]
          },
          "metadata": {
            "tags": []
          },
          "execution_count": 1
        }
      ]
    },
    {
      "cell_type": "markdown",
      "metadata": {
        "id": "_y-2fdpusUY7"
      },
      "source": [
        "## Task 1: Add 'overweight' column\n",
        "\n",
        "Calculating overweight: \n",
        " - Divide the weight in kilograms by the square of the height in meters \n",
        " - If the value is > 25, it means that the person is overweight\n",
        "\n",
        "The column should be 0 for NON-overweight person and 1 for an overweight person"
      ]
    },
    {
      "cell_type": "code",
      "metadata": {
        "colab": {
          "base_uri": "https://localhost:8080/",
          "height": 235
        },
        "id": "-XJzzbP4qkkH",
        "outputId": "97b3eec4-4ce5-4e87-834c-d7f68c1587fd"
      },
      "source": [
        "df = data.copy()\n",
        "\n",
        "# Height basic is in cm, so we should divide values by 100\n",
        "# Result in () below is True/False, so we should convert it to int(0 and 1)\n",
        "df['overweight'] = (df['weight'] / ((df['height']/100)**2) > 25).astype(int)\n",
        "df.head()"
      ],
      "execution_count": null,
      "outputs": [
        {
          "output_type": "execute_result",
          "data": {
            "text/html": [
              "<div>\n",
              "<style scoped>\n",
              "    .dataframe tbody tr th:only-of-type {\n",
              "        vertical-align: middle;\n",
              "    }\n",
              "\n",
              "    .dataframe tbody tr th {\n",
              "        vertical-align: top;\n",
              "    }\n",
              "\n",
              "    .dataframe thead th {\n",
              "        text-align: right;\n",
              "    }\n",
              "</style>\n",
              "<table border=\"1\" class=\"dataframe\">\n",
              "  <thead>\n",
              "    <tr style=\"text-align: right;\">\n",
              "      <th></th>\n",
              "      <th>age</th>\n",
              "      <th>gender</th>\n",
              "      <th>height</th>\n",
              "      <th>weight</th>\n",
              "      <th>ap_hi</th>\n",
              "      <th>ap_lo</th>\n",
              "      <th>cholesterol</th>\n",
              "      <th>gluc</th>\n",
              "      <th>smoke</th>\n",
              "      <th>alco</th>\n",
              "      <th>active</th>\n",
              "      <th>cardio</th>\n",
              "      <th>overweight</th>\n",
              "    </tr>\n",
              "    <tr>\n",
              "      <th>id</th>\n",
              "      <th></th>\n",
              "      <th></th>\n",
              "      <th></th>\n",
              "      <th></th>\n",
              "      <th></th>\n",
              "      <th></th>\n",
              "      <th></th>\n",
              "      <th></th>\n",
              "      <th></th>\n",
              "      <th></th>\n",
              "      <th></th>\n",
              "      <th></th>\n",
              "      <th></th>\n",
              "    </tr>\n",
              "  </thead>\n",
              "  <tbody>\n",
              "    <tr>\n",
              "      <th>0</th>\n",
              "      <td>18393</td>\n",
              "      <td>2</td>\n",
              "      <td>168</td>\n",
              "      <td>62.0</td>\n",
              "      <td>110</td>\n",
              "      <td>80</td>\n",
              "      <td>1</td>\n",
              "      <td>1</td>\n",
              "      <td>0</td>\n",
              "      <td>0</td>\n",
              "      <td>1</td>\n",
              "      <td>0</td>\n",
              "      <td>0</td>\n",
              "    </tr>\n",
              "    <tr>\n",
              "      <th>1</th>\n",
              "      <td>20228</td>\n",
              "      <td>1</td>\n",
              "      <td>156</td>\n",
              "      <td>85.0</td>\n",
              "      <td>140</td>\n",
              "      <td>90</td>\n",
              "      <td>3</td>\n",
              "      <td>1</td>\n",
              "      <td>0</td>\n",
              "      <td>0</td>\n",
              "      <td>1</td>\n",
              "      <td>1</td>\n",
              "      <td>1</td>\n",
              "    </tr>\n",
              "    <tr>\n",
              "      <th>2</th>\n",
              "      <td>18857</td>\n",
              "      <td>1</td>\n",
              "      <td>165</td>\n",
              "      <td>64.0</td>\n",
              "      <td>130</td>\n",
              "      <td>70</td>\n",
              "      <td>3</td>\n",
              "      <td>1</td>\n",
              "      <td>0</td>\n",
              "      <td>0</td>\n",
              "      <td>0</td>\n",
              "      <td>1</td>\n",
              "      <td>0</td>\n",
              "    </tr>\n",
              "    <tr>\n",
              "      <th>3</th>\n",
              "      <td>17623</td>\n",
              "      <td>2</td>\n",
              "      <td>169</td>\n",
              "      <td>82.0</td>\n",
              "      <td>150</td>\n",
              "      <td>100</td>\n",
              "      <td>1</td>\n",
              "      <td>1</td>\n",
              "      <td>0</td>\n",
              "      <td>0</td>\n",
              "      <td>1</td>\n",
              "      <td>1</td>\n",
              "      <td>1</td>\n",
              "    </tr>\n",
              "    <tr>\n",
              "      <th>4</th>\n",
              "      <td>17474</td>\n",
              "      <td>1</td>\n",
              "      <td>156</td>\n",
              "      <td>56.0</td>\n",
              "      <td>100</td>\n",
              "      <td>60</td>\n",
              "      <td>1</td>\n",
              "      <td>1</td>\n",
              "      <td>0</td>\n",
              "      <td>0</td>\n",
              "      <td>0</td>\n",
              "      <td>0</td>\n",
              "      <td>0</td>\n",
              "    </tr>\n",
              "  </tbody>\n",
              "</table>\n",
              "</div>"
            ],
            "text/plain": [
              "      age  gender  height  weight  ...  alco  active  cardio  overweight\n",
              "id                                 ...                                  \n",
              "0   18393       2     168    62.0  ...     0       1       0           0\n",
              "1   20228       1     156    85.0  ...     0       1       1           1\n",
              "2   18857       1     165    64.0  ...     0       0       1           0\n",
              "3   17623       2     169    82.0  ...     0       1       1           1\n",
              "4   17474       1     156    56.0  ...     0       0       0           0\n",
              "\n",
              "[5 rows x 13 columns]"
            ]
          },
          "metadata": {
            "tags": []
          },
          "execution_count": 2
        }
      ]
    },
    {
      "cell_type": "markdown",
      "metadata": {
        "id": "QSciFDk1sacD"
      },
      "source": [
        "## Task 2: Normalize\n",
        "- Normalize data by making 0 always good and 1 always bad. \n",
        "- If the value of 'cholesterol' or 'gluc' is 1, make the value 0. \n",
        "- If the value is more than 1, make the value 1."
      ]
    },
    {
      "cell_type": "code",
      "metadata": {
        "colab": {
          "base_uri": "https://localhost:8080/"
        },
        "id": "HObegSgFqrhF",
        "outputId": "73c3772a-f440-470a-bd00-37a6968a38ba"
      },
      "source": [
        "# 'gluc'\n",
        "# Simply replace 1 to 0 \n",
        "df['gluc'] = df['gluc'].replace(to_replace=1, value=0)\n",
        "\n",
        "# As above - 2 and 3 to 1\n",
        "# If you run this cell twice, you will have only 0 in column\n",
        "df['gluc'] = df['gluc'].replace(to_replace=(2,3), value=1)\n",
        "\n",
        "# Check values\n",
        "print(\"Value counts in column 'gluc':\\n\", df['gluc'].value_counts())\n",
        "print()\n",
        "\n",
        "# 'cholesterol'\n",
        "# The same operations as above\n",
        "df['cholesterol'] = df['cholesterol'].replace(to_replace=1, value=0)\n",
        "df['cholesterol'] = df['cholesterol'].replace(to_replace=(2,3), value=1)\n",
        "print(\"Value counts in column 'cholesterol':\\n\", df['cholesterol'].value_counts())"
      ],
      "execution_count": null,
      "outputs": [
        {
          "output_type": "stream",
          "text": [
            "Value counts in column 'gluc':\n",
            " 0    59479\n",
            "1    10521\n",
            "Name: gluc, dtype: int64\n",
            "\n",
            "Value counts in column 'cholesterol':\n",
            " 0    52385\n",
            "1    17615\n",
            "Name: cholesterol, dtype: int64\n"
          ],
          "name": "stdout"
        }
      ]
    },
    {
      "cell_type": "markdown",
      "metadata": {
        "id": "tiiL-qMbteaU"
      },
      "source": [
        "## Task 3: Create catplot\n",
        "Figure requirements:\n",
        "- Created by sns.catplot()\n",
        "- Kind: bar\n",
        "- Two plots: One for cardio = 0 and one for cardio = 1\n",
        "- For each of above value of cardio use columns: 'cholesterol', 'gluc', 'smoke', 'alco', 'active', 'overweight' with sum of their values 0 and 1 \n"
      ]
    },
    {
      "cell_type": "code",
      "metadata": {
        "colab": {
          "base_uri": "https://localhost:8080/",
          "height": 252
        },
        "id": "P2uNrv5w4ej8",
        "outputId": "4999a335-889d-4668-eff4-e06359d5aebc"
      },
      "source": [
        "# Before start, let's rebuild dataset to be more useful\n",
        "# First, recall basic dataset \n",
        "print(\">>> Basic dataset:\")\n",
        "df.head()"
      ],
      "execution_count": null,
      "outputs": [
        {
          "output_type": "stream",
          "text": [
            ">>> Basic dataset:\n"
          ],
          "name": "stdout"
        },
        {
          "output_type": "execute_result",
          "data": {
            "text/html": [
              "<div>\n",
              "<style scoped>\n",
              "    .dataframe tbody tr th:only-of-type {\n",
              "        vertical-align: middle;\n",
              "    }\n",
              "\n",
              "    .dataframe tbody tr th {\n",
              "        vertical-align: top;\n",
              "    }\n",
              "\n",
              "    .dataframe thead th {\n",
              "        text-align: right;\n",
              "    }\n",
              "</style>\n",
              "<table border=\"1\" class=\"dataframe\">\n",
              "  <thead>\n",
              "    <tr style=\"text-align: right;\">\n",
              "      <th></th>\n",
              "      <th>age</th>\n",
              "      <th>gender</th>\n",
              "      <th>height</th>\n",
              "      <th>weight</th>\n",
              "      <th>ap_hi</th>\n",
              "      <th>ap_lo</th>\n",
              "      <th>cholesterol</th>\n",
              "      <th>gluc</th>\n",
              "      <th>smoke</th>\n",
              "      <th>alco</th>\n",
              "      <th>active</th>\n",
              "      <th>cardio</th>\n",
              "      <th>overweight</th>\n",
              "    </tr>\n",
              "    <tr>\n",
              "      <th>id</th>\n",
              "      <th></th>\n",
              "      <th></th>\n",
              "      <th></th>\n",
              "      <th></th>\n",
              "      <th></th>\n",
              "      <th></th>\n",
              "      <th></th>\n",
              "      <th></th>\n",
              "      <th></th>\n",
              "      <th></th>\n",
              "      <th></th>\n",
              "      <th></th>\n",
              "      <th></th>\n",
              "    </tr>\n",
              "  </thead>\n",
              "  <tbody>\n",
              "    <tr>\n",
              "      <th>0</th>\n",
              "      <td>18393</td>\n",
              "      <td>2</td>\n",
              "      <td>168</td>\n",
              "      <td>62.0</td>\n",
              "      <td>110</td>\n",
              "      <td>80</td>\n",
              "      <td>0</td>\n",
              "      <td>0</td>\n",
              "      <td>0</td>\n",
              "      <td>0</td>\n",
              "      <td>1</td>\n",
              "      <td>0</td>\n",
              "      <td>0</td>\n",
              "    </tr>\n",
              "    <tr>\n",
              "      <th>1</th>\n",
              "      <td>20228</td>\n",
              "      <td>1</td>\n",
              "      <td>156</td>\n",
              "      <td>85.0</td>\n",
              "      <td>140</td>\n",
              "      <td>90</td>\n",
              "      <td>1</td>\n",
              "      <td>0</td>\n",
              "      <td>0</td>\n",
              "      <td>0</td>\n",
              "      <td>1</td>\n",
              "      <td>1</td>\n",
              "      <td>1</td>\n",
              "    </tr>\n",
              "    <tr>\n",
              "      <th>2</th>\n",
              "      <td>18857</td>\n",
              "      <td>1</td>\n",
              "      <td>165</td>\n",
              "      <td>64.0</td>\n",
              "      <td>130</td>\n",
              "      <td>70</td>\n",
              "      <td>1</td>\n",
              "      <td>0</td>\n",
              "      <td>0</td>\n",
              "      <td>0</td>\n",
              "      <td>0</td>\n",
              "      <td>1</td>\n",
              "      <td>0</td>\n",
              "    </tr>\n",
              "    <tr>\n",
              "      <th>3</th>\n",
              "      <td>17623</td>\n",
              "      <td>2</td>\n",
              "      <td>169</td>\n",
              "      <td>82.0</td>\n",
              "      <td>150</td>\n",
              "      <td>100</td>\n",
              "      <td>0</td>\n",
              "      <td>0</td>\n",
              "      <td>0</td>\n",
              "      <td>0</td>\n",
              "      <td>1</td>\n",
              "      <td>1</td>\n",
              "      <td>1</td>\n",
              "    </tr>\n",
              "    <tr>\n",
              "      <th>4</th>\n",
              "      <td>17474</td>\n",
              "      <td>1</td>\n",
              "      <td>156</td>\n",
              "      <td>56.0</td>\n",
              "      <td>100</td>\n",
              "      <td>60</td>\n",
              "      <td>0</td>\n",
              "      <td>0</td>\n",
              "      <td>0</td>\n",
              "      <td>0</td>\n",
              "      <td>0</td>\n",
              "      <td>0</td>\n",
              "      <td>0</td>\n",
              "    </tr>\n",
              "  </tbody>\n",
              "</table>\n",
              "</div>"
            ],
            "text/plain": [
              "      age  gender  height  weight  ...  alco  active  cardio  overweight\n",
              "id                                 ...                                  \n",
              "0   18393       2     168    62.0  ...     0       1       0           0\n",
              "1   20228       1     156    85.0  ...     0       1       1           1\n",
              "2   18857       1     165    64.0  ...     0       0       1           0\n",
              "3   17623       2     169    82.0  ...     0       1       1           1\n",
              "4   17474       1     156    56.0  ...     0       0       0           0\n",
              "\n",
              "[5 rows x 13 columns]"
            ]
          },
          "metadata": {
            "tags": []
          },
          "execution_count": 4
        }
      ]
    },
    {
      "cell_type": "code",
      "metadata": {
        "colab": {
          "base_uri": "https://localhost:8080/",
          "height": 793
        },
        "id": "0JOEWLzX1t4M",
        "outputId": "01a3dcc8-341c-4ee9-ef6b-d89f1a886a82"
      },
      "source": [
        "# Rebuild dataset from wide to long format\n",
        "# I used cardio as id and given columns as value\n",
        "df_cat = pd.melt(\n",
        "    df, \n",
        "    id_vars='cardio', \n",
        "    value_vars=['cholesterol', 'gluc', 'smoke', 'alco', 'active', 'overweight']\n",
        ")\n",
        "\n",
        "# Now we group dataset by these three columns and save size of groups to new column\n",
        "df_cat['size'] = df_cat.groupby(['cardio', 'variable', 'value'])['value'].transform('size')\n",
        "\n",
        "# Now we can delete duplicates \n",
        "df_cat.drop_duplicates(subset=['variable', 'size'], keep='first', inplace=True)\n",
        "\n",
        "# And also reset index for a better presentation\n",
        "df_cat = df_cat.reset_index(drop=True)\n",
        "df_cat"
      ],
      "execution_count": null,
      "outputs": [
        {
          "output_type": "execute_result",
          "data": {
            "text/html": [
              "<div>\n",
              "<style scoped>\n",
              "    .dataframe tbody tr th:only-of-type {\n",
              "        vertical-align: middle;\n",
              "    }\n",
              "\n",
              "    .dataframe tbody tr th {\n",
              "        vertical-align: top;\n",
              "    }\n",
              "\n",
              "    .dataframe thead th {\n",
              "        text-align: right;\n",
              "    }\n",
              "</style>\n",
              "<table border=\"1\" class=\"dataframe\">\n",
              "  <thead>\n",
              "    <tr style=\"text-align: right;\">\n",
              "      <th></th>\n",
              "      <th>cardio</th>\n",
              "      <th>variable</th>\n",
              "      <th>value</th>\n",
              "      <th>size</th>\n",
              "    </tr>\n",
              "  </thead>\n",
              "  <tbody>\n",
              "    <tr>\n",
              "      <th>0</th>\n",
              "      <td>0</td>\n",
              "      <td>cholesterol</td>\n",
              "      <td>0</td>\n",
              "      <td>29330</td>\n",
              "    </tr>\n",
              "    <tr>\n",
              "      <th>1</th>\n",
              "      <td>1</td>\n",
              "      <td>cholesterol</td>\n",
              "      <td>1</td>\n",
              "      <td>11924</td>\n",
              "    </tr>\n",
              "    <tr>\n",
              "      <th>2</th>\n",
              "      <td>1</td>\n",
              "      <td>cholesterol</td>\n",
              "      <td>0</td>\n",
              "      <td>23055</td>\n",
              "    </tr>\n",
              "    <tr>\n",
              "      <th>3</th>\n",
              "      <td>0</td>\n",
              "      <td>cholesterol</td>\n",
              "      <td>1</td>\n",
              "      <td>5691</td>\n",
              "    </tr>\n",
              "    <tr>\n",
              "      <th>4</th>\n",
              "      <td>0</td>\n",
              "      <td>gluc</td>\n",
              "      <td>0</td>\n",
              "      <td>30894</td>\n",
              "    </tr>\n",
              "    <tr>\n",
              "      <th>5</th>\n",
              "      <td>1</td>\n",
              "      <td>gluc</td>\n",
              "      <td>0</td>\n",
              "      <td>28585</td>\n",
              "    </tr>\n",
              "    <tr>\n",
              "      <th>6</th>\n",
              "      <td>0</td>\n",
              "      <td>gluc</td>\n",
              "      <td>1</td>\n",
              "      <td>4127</td>\n",
              "    </tr>\n",
              "    <tr>\n",
              "      <th>7</th>\n",
              "      <td>1</td>\n",
              "      <td>gluc</td>\n",
              "      <td>1</td>\n",
              "      <td>6394</td>\n",
              "    </tr>\n",
              "    <tr>\n",
              "      <th>8</th>\n",
              "      <td>0</td>\n",
              "      <td>smoke</td>\n",
              "      <td>0</td>\n",
              "      <td>31781</td>\n",
              "    </tr>\n",
              "    <tr>\n",
              "      <th>9</th>\n",
              "      <td>1</td>\n",
              "      <td>smoke</td>\n",
              "      <td>0</td>\n",
              "      <td>32050</td>\n",
              "    </tr>\n",
              "    <tr>\n",
              "      <th>10</th>\n",
              "      <td>0</td>\n",
              "      <td>smoke</td>\n",
              "      <td>1</td>\n",
              "      <td>3240</td>\n",
              "    </tr>\n",
              "    <tr>\n",
              "      <th>11</th>\n",
              "      <td>1</td>\n",
              "      <td>smoke</td>\n",
              "      <td>1</td>\n",
              "      <td>2929</td>\n",
              "    </tr>\n",
              "    <tr>\n",
              "      <th>12</th>\n",
              "      <td>0</td>\n",
              "      <td>alco</td>\n",
              "      <td>0</td>\n",
              "      <td>33080</td>\n",
              "    </tr>\n",
              "    <tr>\n",
              "      <th>13</th>\n",
              "      <td>1</td>\n",
              "      <td>alco</td>\n",
              "      <td>0</td>\n",
              "      <td>33156</td>\n",
              "    </tr>\n",
              "    <tr>\n",
              "      <th>14</th>\n",
              "      <td>0</td>\n",
              "      <td>alco</td>\n",
              "      <td>1</td>\n",
              "      <td>1941</td>\n",
              "    </tr>\n",
              "    <tr>\n",
              "      <th>15</th>\n",
              "      <td>1</td>\n",
              "      <td>alco</td>\n",
              "      <td>1</td>\n",
              "      <td>1823</td>\n",
              "    </tr>\n",
              "    <tr>\n",
              "      <th>16</th>\n",
              "      <td>0</td>\n",
              "      <td>active</td>\n",
              "      <td>1</td>\n",
              "      <td>28643</td>\n",
              "    </tr>\n",
              "    <tr>\n",
              "      <th>17</th>\n",
              "      <td>1</td>\n",
              "      <td>active</td>\n",
              "      <td>1</td>\n",
              "      <td>27618</td>\n",
              "    </tr>\n",
              "    <tr>\n",
              "      <th>18</th>\n",
              "      <td>1</td>\n",
              "      <td>active</td>\n",
              "      <td>0</td>\n",
              "      <td>7361</td>\n",
              "    </tr>\n",
              "    <tr>\n",
              "      <th>19</th>\n",
              "      <td>0</td>\n",
              "      <td>active</td>\n",
              "      <td>0</td>\n",
              "      <td>6378</td>\n",
              "    </tr>\n",
              "    <tr>\n",
              "      <th>20</th>\n",
              "      <td>0</td>\n",
              "      <td>overweight</td>\n",
              "      <td>0</td>\n",
              "      <td>15915</td>\n",
              "    </tr>\n",
              "    <tr>\n",
              "      <th>21</th>\n",
              "      <td>1</td>\n",
              "      <td>overweight</td>\n",
              "      <td>1</td>\n",
              "      <td>24440</td>\n",
              "    </tr>\n",
              "    <tr>\n",
              "      <th>22</th>\n",
              "      <td>1</td>\n",
              "      <td>overweight</td>\n",
              "      <td>0</td>\n",
              "      <td>10539</td>\n",
              "    </tr>\n",
              "    <tr>\n",
              "      <th>23</th>\n",
              "      <td>0</td>\n",
              "      <td>overweight</td>\n",
              "      <td>1</td>\n",
              "      <td>19106</td>\n",
              "    </tr>\n",
              "  </tbody>\n",
              "</table>\n",
              "</div>"
            ],
            "text/plain": [
              "    cardio     variable  value   size\n",
              "0        0  cholesterol      0  29330\n",
              "1        1  cholesterol      1  11924\n",
              "2        1  cholesterol      0  23055\n",
              "3        0  cholesterol      1   5691\n",
              "4        0         gluc      0  30894\n",
              "5        1         gluc      0  28585\n",
              "6        0         gluc      1   4127\n",
              "7        1         gluc      1   6394\n",
              "8        0        smoke      0  31781\n",
              "9        1        smoke      0  32050\n",
              "10       0        smoke      1   3240\n",
              "11       1        smoke      1   2929\n",
              "12       0         alco      0  33080\n",
              "13       1         alco      0  33156\n",
              "14       0         alco      1   1941\n",
              "15       1         alco      1   1823\n",
              "16       0       active      1  28643\n",
              "17       1       active      1  27618\n",
              "18       1       active      0   7361\n",
              "19       0       active      0   6378\n",
              "20       0   overweight      0  15915\n",
              "21       1   overweight      1  24440\n",
              "22       1   overweight      0  10539\n",
              "23       0   overweight      1  19106"
            ]
          },
          "metadata": {
            "tags": []
          },
          "execution_count": 5
        }
      ]
    },
    {
      "cell_type": "code",
      "metadata": {
        "colab": {
          "base_uri": "https://localhost:8080/",
          "height": 399
        },
        "id": "L8h8zWuhDJ2j",
        "outputId": "d20bfe4a-b5a7-4731-8902-b25547be6e75"
      },
      "source": [
        "# Now, we can draw the plot\n",
        "\n",
        "# Settings of figure\n",
        "sns.set(rc={\n",
        "    'axes.facecolor':'cornflowerblue', \n",
        "    'figure.facecolor':'white'\n",
        "})\n",
        "\n",
        "# Draw the figure\n",
        "sns.catplot(\n",
        "    x='variable', \n",
        "    y=\"size\",  \n",
        "    hue=\"value\",  # For two bars for each x\n",
        "    col=\"cardio\",  # Two plots(one for each value of cardio)  \n",
        "    kind=\"bar\",  # Kind of plots\n",
        "    data=df_cat  # Source of data\n",
        ")"
      ],
      "execution_count": null,
      "outputs": [
        {
          "output_type": "execute_result",
          "data": {
            "text/plain": [
              "<seaborn.axisgrid.FacetGrid at 0x7fc5c9a24bd0>"
            ]
          },
          "metadata": {
            "tags": []
          },
          "execution_count": 6
        },
        {
          "output_type": "display_data",
          "data": {
            "image/png": "[encoded data removed]",
            "text/plain": [
              "<Figure size 766.6x360 with 2 Axes>"
            ]
          },
          "metadata": {
            "tags": []
          }
        }
      ]
    },
    {
      "cell_type": "markdown",
      "metadata": {
        "id": "b4uqA3pHH3DR"
      },
      "source": [
        "## Task 4.1: Cleaning\n",
        "In this part my goal is draw the specific heatmap, but first i need to clean the data.\n",
        "\n",
        "Filter out the following patient segments that represent incorrect data:\n",
        "1. Diastolic pressure('ap_lo') is higher than systolic('ap_hi').\n",
        "2. Height is less than the 2.5th percentile.\n",
        "3. Height is more than the 97.5th percentile.\n",
        "4. Weight is less than the 2.5th percentile.\n",
        "5. Weight is more than the 97.5th percentile."
      ]
    },
    {
      "cell_type": "code",
      "metadata": {
        "colab": {
          "base_uri": "https://localhost:8080/"
        },
        "id": "EFAIEZTPruRH",
        "outputId": "79f9f93f-f459-4224-f511-1177bb9bfa05"
      },
      "source": [
        "df_heat = df.copy()\n",
        "print(\"No. rows before cleaning:\", df_heat.shape[0])\n",
        "\n",
        "# diastolic pressure('ap_lo') is higher than systolic('ap_hi')\n",
        "df_heat = df_heat.drop(df_heat.loc[(df_heat['ap_lo'] > df_heat['ap_hi'])].index)\n",
        "print(\"No. rows after part 1 of cleaning:\", df_heat.shape[0])\n",
        "\n",
        "# height is less than the 2.5th percentile\n",
        "df_heat = df_heat.drop(df_heat.loc[(df_heat['height'] < df_heat['height'].quantile(0.025))].index)\n",
        "print(\"No. rows after part 2 of cleaning:\", df_heat.shape[0])\n",
        "\n",
        "# height is more than the 97.5th percentile\n",
        "df_heat = df_heat.drop(df_heat.loc[(df['height'] > df['height'].quantile(0.975))].index)\n",
        "print(\"No. rows after part 3 of cleaning:\", df_heat.shape[0])\n",
        "\n",
        "# weight is less than the 2.5th percentile\n",
        "df_heat = df_heat.drop(df_heat.loc[(df['weight'] < df['weight'].quantile(0.025))].index)\n",
        "print(\"No. rows after part 4 of cleaning:\", df_heat.shape[0])\n",
        "\n",
        "# weight is more than the 97.5th percentile\n",
        "df_heat = df_heat.drop(df_heat.loc[(df['weight'] > df['weight'].quantile(0.975))].index)\n",
        "print(\"No. rows after part 5 of cleaning:\", df_heat.shape[0])"
      ],
      "execution_count": null,
      "outputs": [
        {
          "output_type": "stream",
          "text": [
            "No. rows before cleaning: 70000\n",
            "No. rows after part 1 of cleaning: 68766\n",
            "No. rows after part 2 of cleaning: 67260\n",
            "No. rows after part 3 of cleaning: 65859\n",
            "No. rows after part 4 of cleaning: 64623\n",
            "No. rows after part 5 of cleaning: 63259\n"
          ],
          "name": "stdout"
        }
      ]
    },
    {
      "cell_type": "markdown",
      "metadata": {
        "id": "ufPXB_SGKdoB"
      },
      "source": [
        "## Task 4.2: Create correlation matrix\n",
        "Requirements:\n",
        " - Plot the correlation matrix using seaborn's `heatmap()`\n",
        " - Mask the upper triangle"
      ]
    },
    {
      "cell_type": "code",
      "metadata": {
        "colab": {
          "base_uri": "https://localhost:8080/",
          "height": 504
        },
        "id": "Y2W8Ck8esIt2",
        "outputId": "144d950a-b690-464e-e326-707ee0bec8e3"
      },
      "source": [
        "# Calculate the correlation matrix\n",
        "corr = round(df_heat.corr().astype(float),1)\n",
        "\n",
        "# Generate a mask for the upper triangle\n",
        "mask = np.triu(np.ones_like(corr))\n",
        "\n",
        "# Settings of figure\n",
        "sns.set(rc={\n",
        "    'axes.facecolor':'cornflowerblue', \n",
        "    'figure.facecolor':'white',\n",
        "    'figure.figsize':(10,7),\n",
        "})\n",
        "\n",
        "# Draw the heatmap with 'sns.heatmap()'\n",
        "sns.heatmap(\n",
        "    corr, \n",
        "    annot=True, \n",
        "    mask=mask, \n",
        "    fmt='.1f'\n",
        ")"
      ],
      "execution_count": null,
      "outputs": [
        {
          "output_type": "execute_result",
          "data": {
            "text/plain": [
              "<matplotlib.axes._subplots.AxesSubplot at 0x7fc5c001fad0>"
            ]
          },
          "metadata": {
            "tags": []
          },
          "execution_count": 8
        },
        {
          "output_type": "display_data",
          "data": {
            "image/png": "[encoded data removed]",
            "text/plain": [
              "<Figure size 720x504 with 2 Axes>"
            ]
          },
          "metadata": {
            "tags": []
          }
        }
      ]
    }
  ]
}